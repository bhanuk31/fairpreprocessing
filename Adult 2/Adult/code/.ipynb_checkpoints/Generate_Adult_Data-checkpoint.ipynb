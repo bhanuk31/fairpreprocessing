{
 "cells": [
  {
   "cell_type": "code",
   "execution_count": 1,
   "metadata": {
    "collapsed": true
   },
   "outputs": [],
   "source": [
    "import numpy as np\n",
    "import pandas as pd\n",
    "import scipy\n",
    "import matplotlib.pyplot as plt\n",
    "import seaborn as sns\n",
    "from tqdm import tqdm\n",
    "from cvxpy import *\n",
    "from DTools import *\n",
    "from matplotlib import gridspec\n",
    "from matplotlib.patches import Rectangle\n",
    "%matplotlib inline\n"
   ]
  },
  {
   "cell_type": "markdown",
   "metadata": {},
   "source": [
    "# Data prep\n",
    "\n",
    "Import the adult dataset, and name categories."
   ]
  },
  {
   "cell_type": "code",
   "execution_count": 2,
   "metadata": {
    "collapsed": true
   },
   "outputs": [],
   "source": [
    "dataFolder = '../data/'\n",
    "\n",
    "df = pd.read_csv(\n",
    "    dataFolder + \"adult.data\",\n",
    "    names=[\n",
    "        \"Age\", \"Workclass\", \"fnlwgt\", \"Education\", \"Education-Num\", \"Martial Status\",\n",
    "        \"Occupation\", \"Relationship\", \"Race\", \"Gender\", \"Capital Gain\", \"Capital Loss\",\n",
    "        \"Hours per week\", \"Country\", \"Income\"],\n",
    "        na_values=\"?\")"
   ]
  },
  {
   "cell_type": "markdown",
   "metadata": {},
   "source": [
    "Group age by decade."
   ]
  },
  {
   "cell_type": "code",
   "execution_count": 3,
   "metadata": {
    "collapsed": true
   },
   "outputs": [],
   "source": [
    "df['Age (decade)'] = df['Age'].apply(lambda x: np.floor(x/10.0)*10.0)\n",
    "df['Age (decade)'] = df['Age'].apply(lambda x: np.floor(x/10.0)*10.0)"
   ]
  },
  {
   "cell_type": "markdown",
   "metadata": {},
   "source": [
    "Cluster minority, education and age attributes."
   ]
  },
  {
   "cell_type": "code",
   "execution_count": 4,
   "metadata": {
    "collapsed": true
   },
   "outputs": [],
   "source": [
    "def group_edu(x):\n",
    "    if x<=5:\n",
    "        return '<6'\n",
    "    elif x>=13:\n",
    "        return '>12'\n",
    "    else:\n",
    "        return x\n",
    "    \n",
    "def age_cut(x):\n",
    "    if x>=70:\n",
    "        return '>=70'\n",
    "    else:\n",
    "        return x\n",
    "\n",
    "# Limit education range\n",
    "df['Education Years'] = df['Education-Num'].apply(lambda x : group_edu(x))\n",
    "\n",
    "# Limit age range\n",
    "df['Age (decade)'] = df['Age (decade)'].apply(lambda x : age_cut(x))\n",
    "\n",
    "# Transform all that is non-white into 'minority'\n",
    "df['Race'] = df['Race'].apply(lambda x: x if x== ' White' else 'Minority')\n",
    "\n",
    "# Add binary income variable\n",
    "df['Income Binary'] = df['Income'].apply(lambda x : 1 if x == \" >50K\" else 0)"
   ]
  },
  {
   "cell_type": "markdown",
   "metadata": {},
   "source": [
    "We'll be interested only in age, education, income, gender and race. Set discriminatory features (`D_features`), binary response variable (`Y_features`) and decision features (`X_features`)."
   ]
  },
  {
   "cell_type": "code",
   "execution_count": 5,
   "metadata": {
    "collapsed": true
   },
   "outputs": [],
   "source": [
    "features = ['Age (decade)','Education Years','Income','Gender','Race','Income Binary']\n",
    "D_features = ['Gender','Race']\n",
    "Y_features = ['Income Binary']\n",
    "X_features = ['Age (decade)', 'Education Years']\n",
    "\n",
    "# keep only the features we will use\n",
    "df = df[features]"
   ]
  },
  {
   "cell_type": "markdown",
   "metadata": {},
   "source": [
    "Next, we do a 80-20 split of the data. The random number generator seed is fixed, so this should generate consistent splits. We automatically rename output files accordingly. Pairs of train and test dataset are stored in `df_list`."
   ]
  },
  {
   "cell_type": "code",
   "execution_count": 6,
   "metadata": {
    "collapsed": true
   },
   "outputs": [],
   "source": [
    "from sklearn.model_selection import ShuffleSplit\n",
    "rs = ShuffleSplit(n_splits=5, test_size=.2, random_state=888)  ### CHANGE SEED FOR DIFFERENT SPLITS!\n",
    "df_list = []\n",
    "for train_index,test_index in rs.split(df):\n",
    "    df_list.append((df.iloc[train_index,:].copy(),df.iloc[test_index,:].copy()))\n",
    "    "
   ]
  },
  {
   "cell_type": "markdown",
   "metadata": {},
   "source": [
    "Now we set the distortion metric. This function will receive the two dictionary of features X and Y corresponding to the new and old values. You may want to adjust the penalties for different results. The events that receive `bad_val` are those that will never happen."
   ]
  },
  {
   "cell_type": "code",
   "execution_count": 7,
   "metadata": {
    "collapsed": true
   },
   "outputs": [],
   "source": [
    "class Dclass():\n",
    "# adjust education\n",
    "    def adjustEdu(self,v):\n",
    "        if v=='>12':\n",
    "            return 13\n",
    "        elif v=='<6':\n",
    "            return 5\n",
    "        else:\n",
    "            return v\n",
    "\n",
    "    def adjustAge(self,a):\n",
    "        if a == '>=70':\n",
    "            return 70.0\n",
    "        else:\n",
    "            return a\n",
    "\n",
    "    # distortion metric\n",
    "    def getDistortion(self,vold,vnew):\n",
    "        '''\n",
    "        Distortion metric.\n",
    "\n",
    "        Inputs:\n",
    "        *vold : dictionary of the form {attr:value} with old values\n",
    "        *vnew : dictionary of the form {attr:value} with new values\n",
    "\n",
    "        Output\n",
    "        *d : distortion value\n",
    "        '''\n",
    "\n",
    "        # value that will be returned for events that should not occur\n",
    "        bad_val = 3.0\n",
    "\n",
    "\n",
    "        # Adjust education years\n",
    "        eOld = self.adjustEdu(vold['Education Years'])\n",
    "        eNew = self.adjustEdu(vnew['Education Years'])\n",
    "\n",
    "        # Education cannot be lowered or increased in more than 1 year\n",
    "        if (eNew<eOld)| (eNew>eOld+1):\n",
    "            return bad_val\n",
    "\n",
    "        # adjust age\n",
    "        aOld = self.adjustAge(vold['Age (decade)'])\n",
    "        aNew = self.adjustAge(vnew['Age (decade)'])\n",
    "\n",
    "        # Age cannot be increased or decreased in more than a decade\n",
    "        if np.abs(aOld-aNew)>10.0:\n",
    "            return bad_val\n",
    "        \n",
    "        # Penalty of 2 if age is decreased or increased\n",
    "        if np.abs(aOld-aNew)>0:\n",
    "            return 2.0\n",
    "\n",
    "        # final penalty according to income\n",
    "        if vold['Income Binary']>vnew['Income Binary']:\n",
    "            return 1.0\n",
    "        else:\n",
    "            return 0.0\n",
    "        "
   ]
  },
  {
   "cell_type": "markdown",
   "metadata": {},
   "source": [
    "Here we adjust the cost constraints. For the adult dataset, we control the probability of certain mappings happening. You may not want to change this now, since it matches the paper."
   ]
  },
  {
   "cell_type": "code",
   "execution_count": 8,
   "metadata": {
    "collapsed": true
   },
   "outputs": [],
   "source": [
    "c1 = .99 # value of (delta1,c1): to keep.\n",
    "c2 = 1.99  # value of (delta2,c2): value that should no happen\n",
    "c3 = 2.99 # penalty for adjusting age\n",
    "clist = [c1,c2, c3]\n",
    "Dclass = Dclass()\n",
    "\n",
    "DT = DTools(df=df,features=features)\n",
    "\n",
    "# Set features\n",
    "DT.setFeatures(D=D_features,X=X_features,Y=Y_features)\n",
    "\n",
    "# Set Distortion\n",
    "DT.setDistortion(Dclass,clist=clist)"
   ]
  },
  {
   "cell_type": "markdown",
   "metadata": {},
   "source": [
    "The next code is important -- it can help you explore values of constraints that will not lead to infeasible solutions. Dlist constrols distortion (see more info below). The red region is infeasible."
   ]
  },
  {
   "cell_type": "code",
   "execution_count": 9,
   "metadata": {},
   "outputs": [
    {
     "name": "stderr",
     "output_type": "stream",
     "text": [
      "  0%|          | 0/10 [00:00<?, ?it/s]DTools.py:235: RuntimeWarning: divide by zero encountered in reciprocal\n",
      "  Pxy_xhyh = np.nan_to_num(np.diag(PxyMarginal**(-1))).dot(self.dfMask_Pxyd_to_Pxy.values.T).dot(np.diag(PxydMarginal))*Pmap\n",
      "100%|██████████| 10/10 [00:27<00:00,  2.49s/it]\n"
     ]
    },
    {
     "data": {
      "image/png": "[encoded data removed]",
      "text/plain": [
       "<matplotlib.figure.Figure at 0x11218d4d0>"
      ]
     },
     "metadata": {},
     "output_type": "display_data"
    }
   ],
   "source": [
    "dlist = [.15,0.1,0]\n",
    "\n",
    "\n",
    "\n",
    "epsilonV = np.linspace(0,.25,10)\n",
    "y = np.zeros(len(epsilonV))\n",
    "z = np.zeros(len(epsilonV))\n",
    "\n",
    "for i in tqdm(range(len(epsilonV))):\n",
    "    try:\n",
    "        DT.optimize(epsilon=epsilonV[i],dlist = dlist,verbose=False)\n",
    "    except:\n",
    "        y[i] = np.inf\n",
    "        z[i] = np.inf\n",
    "        continue\n",
    "        \n",
    "    y[i] = DT.optimum\n",
    "    z[i] = DT.const[0]\n",
    "    \n",
    "# Plot\n",
    "sns.set(font_scale=1.8,font='sans-serif')\n",
    "plt.figure(figsize = (10,5))\n",
    "ax = plt.plot(epsilonV,y,'-',linewidth=2)\n",
    "plt.ylabel(\"Objective Value\")\n",
    "plt.xlabel(\"$\\epsilon$\")\n",
    "plt.title(\"Objective vs. $\\epsilon$\")# for\\n$\\delta_1 =$\"+str(dlist[0])+\", $\\delta_2=$\"+str(dlist[1])+\" and $\\delta_3=$\"+str(dlist[2]))\n",
    "infeasible = np.where(y==np.inf)[0]\n",
    "plt.axvspan(0, epsilonV[infeasible[-1]+1], color='red', alpha=0.2)\n",
    "plt.xlim([epsilonV.min(),epsilonV.max()])\n",
    "plt.ylim([-0.0002,y[y<np.inf].max()+0.0001])\n",
    "\n",
    "#plt.text(0.05, 0.0075, r'Infeasible', fontsize=20)\n",
    "plt.tight_layout()"
   ]
  },
  {
   "cell_type": "markdown",
   "metadata": {},
   "source": [
    "These are the values you may want to change. dlist has three parameters that control distortion. The last one should be left at 0, but the first two can be tweeked (as long as dlist[0]$\\geq$dlist[1]). We use the same distortion across protected varialbes.\n",
    "\n",
    "The second value is the discrimination constraint. I would leave it at .20 for now."
   ]
  },
  {
   "cell_type": "code",
   "execution_count": 10,
   "metadata": {
    "collapsed": true
   },
   "outputs": [],
   "source": [
    "# these were the values used in the paper\n",
    "# dlist = [.1,0.05,0]\n",
    "# epsilon = .2\n",
    "\n",
    "dlist = [.15,0.1,0]\n",
    "epsilon = .1"
   ]
  },
  {
   "cell_type": "markdown",
   "metadata": {},
   "source": [
    "This is an auxiliary function for helping in randomizing the dataset. It receives a dataset and a mapping, and randomizes accordingly. I'm fixing the value of the seed for numpy -- you may want to change this in order to produce fresh datasets."
   ]
  },
  {
   "cell_type": "code",
   "execution_count": 11,
   "metadata": {
    "collapsed": true
   },
   "outputs": [],
   "source": [
    "######### CHANGE SEED HERE ###########\n",
    "seed = sum([ord(b) for b in 'Bhanu'])\n",
    "np.random.seed(seed = seed)\n",
    "####################################\n",
    "\n",
    "def randomize(df, dfMap,features=[]):\n",
    "    df2 = df.copy()\n",
    "    print('Randomizing...')\n",
    "    for idx in tqdm(df2.index):\n",
    "        rowTest = df2.loc[idx,:]\n",
    "        vals = rowTest[features]\n",
    "        draw = dfMap.loc[tuple(vals.tolist())]\n",
    "        #randomly select value\n",
    "\n",
    "        mapVal = np.random.choice(range(len(draw)),p=draw.tolist())\n",
    "        draw.index[mapVal]\n",
    "        df2.loc[idx,draw.index.names] = draw.index[mapVal]\n",
    "        \n",
    "    return df2\n"
   ]
  },
  {
   "cell_type": "markdown",
   "metadata": {},
   "source": [
    "## Main loop\n",
    "\n",
    "This is where the brute of the work will be done. May take a while to run, and will print randomization progress."
   ]
  },
  {
   "cell_type": "code",
   "execution_count": 12,
   "metadata": {},
   "outputs": [
    {
     "name": "stdout",
     "output_type": "stream",
     "text": [
      "-----------------\n",
      "Current split: 0\n"
     ]
    },
    {
     "name": "stderr",
     "output_type": "stream",
     "text": [
      "//anaconda/lib/python2.7/site-packages/pandas/core/base.py:324: PerformanceWarning: dropping on a non-lexsorted multi-index without a level parameter may impact performance.\n",
      "  return self.obj.drop(self.exclusions, axis=1)\n",
      "  0%|          | 65/26048 [00:00<01:20, 323.31it/s]"
     ]
    },
    {
     "name": "stdout",
     "output_type": "stream",
     "text": [
      "Randomizing training set...\n",
      "Randomizing...\n"
     ]
    },
    {
     "name": "stderr",
     "output_type": "stream",
     "text": [
      "100%|██████████| 26048/26048 [01:15<00:00, 345.68it/s]\n",
      "  1%|          | 50/6513 [00:00<00:13, 490.61it/s]"
     ]
    },
    {
     "name": "stdout",
     "output_type": "stream",
     "text": [
      "Randomizing test set...\n",
      "Randomizing...\n"
     ]
    },
    {
     "name": "stderr",
     "output_type": "stream",
     "text": [
      "  8%|▊         | 536/6513 [00:01<00:13, 439.74it/s]/anaconda/lib/python2.7/site-packages/ipykernel/__main__.py:15: RuntimeWarning: invalid value encountered in less\n",
      "100%|██████████| 6513/6513 [00:13<00:00, 478.98it/s]\n"
     ]
    },
    {
     "name": "stdout",
     "output_type": "stream",
     "text": [
      "-----------------\n",
      "Current split: 1\n"
     ]
    },
    {
     "name": "stderr",
     "output_type": "stream",
     "text": [
      "  0%|          | 35/26048 [00:00<01:15, 343.40it/s]"
     ]
    },
    {
     "name": "stdout",
     "output_type": "stream",
     "text": [
      "Randomizing training set...\n",
      "Randomizing...\n"
     ]
    },
    {
     "name": "stderr",
     "output_type": "stream",
     "text": [
      "100%|██████████| 26048/26048 [01:16<00:00, 341.26it/s]\n",
      "  1%|          | 80/6513 [00:00<00:15, 412.45it/s]"
     ]
    },
    {
     "name": "stdout",
     "output_type": "stream",
     "text": [
      "Randomizing test set...\n",
      "Randomizing...\n"
     ]
    },
    {
     "name": "stderr",
     "output_type": "stream",
     "text": [
      "100%|██████████| 6513/6513 [00:13<00:00, 482.84it/s]\n"
     ]
    },
    {
     "name": "stdout",
     "output_type": "stream",
     "text": [
      "-----------------\n",
      "Current split: 2\n"
     ]
    },
    {
     "name": "stderr",
     "output_type": "stream",
     "text": [
      "  0%|          | 35/26048 [00:00<01:15, 344.70it/s]"
     ]
    },
    {
     "name": "stdout",
     "output_type": "stream",
     "text": [
      "Randomizing training set...\n",
      "Randomizing...\n"
     ]
    },
    {
     "name": "stderr",
     "output_type": "stream",
     "text": [
      "100%|██████████| 26048/26048 [01:17<00:00, 336.50it/s]\n",
      "  1%|          | 49/6513 [00:00<00:13, 486.06it/s]"
     ]
    },
    {
     "name": "stdout",
     "output_type": "stream",
     "text": [
      "Randomizing test set...\n",
      "Randomizing...\n"
     ]
    },
    {
     "name": "stderr",
     "output_type": "stream",
     "text": [
      "100%|██████████| 6513/6513 [00:13<00:00, 487.31it/s]\n"
     ]
    },
    {
     "name": "stdout",
     "output_type": "stream",
     "text": [
      "-----------------\n",
      "Current split: 3\n"
     ]
    },
    {
     "name": "stderr",
     "output_type": "stream",
     "text": [
      "  0%|          | 68/26048 [00:00<01:17, 333.10it/s]"
     ]
    },
    {
     "name": "stdout",
     "output_type": "stream",
     "text": [
      "Randomizing training set...\n",
      "Randomizing...\n"
     ]
    },
    {
     "name": "stderr",
     "output_type": "stream",
     "text": [
      "100%|██████████| 26048/26048 [01:15<00:00, 346.25it/s]\n",
      "  1%|          | 49/6513 [00:00<00:13, 482.90it/s]"
     ]
    },
    {
     "name": "stdout",
     "output_type": "stream",
     "text": [
      "Randomizing test set...\n",
      "Randomizing...\n"
     ]
    },
    {
     "name": "stderr",
     "output_type": "stream",
     "text": [
      "100%|██████████| 6513/6513 [00:13<00:00, 488.33it/s]\n"
     ]
    },
    {
     "name": "stdout",
     "output_type": "stream",
     "text": [
      "-----------------\n",
      "Current split: 4\n"
     ]
    },
    {
     "name": "stderr",
     "output_type": "stream",
     "text": [
      "  0%|          | 36/26048 [00:00<01:13, 353.42it/s]"
     ]
    },
    {
     "name": "stdout",
     "output_type": "stream",
     "text": [
      "Randomizing training set...\n",
      "Randomizing...\n"
     ]
    },
    {
     "name": "stderr",
     "output_type": "stream",
     "text": [
      "100%|██████████| 26048/26048 [01:15<00:00, 343.76it/s]\n",
      "  1%|▏         | 97/6513 [00:00<00:13, 476.59it/s]"
     ]
    },
    {
     "name": "stdout",
     "output_type": "stream",
     "text": [
      "Randomizing test set...\n",
      "Randomizing...\n"
     ]
    },
    {
     "name": "stderr",
     "output_type": "stream",
     "text": [
      "100%|██████████| 6513/6513 [00:13<00:00, 493.70it/s]\n"
     ]
    }
   ],
   "source": [
    "result_folder = '../experiment_data/'\n",
    "split_num = 0\n",
    "\n",
    "# iterate over pairs\n",
    "for (df_train,df_test) in df_list:\n",
    "    file_name = str(split_num)\n",
    "    \n",
    "    print('-----------------')\n",
    "    print('Current split: '+file_name)\n",
    "\n",
    "    # initialize a new DT object\n",
    "    DT = DTools(df=df_train,features=features)\n",
    "\n",
    "    # Set features\n",
    "    DT.setFeatures(D=D_features,X=X_features,Y=Y_features)\n",
    "\n",
    "    # Set Distortion\n",
    "    DT.setDistortion(Dclass,clist=clist)\n",
    "\n",
    "    # solve optimization for previous parameters -- This uses and older implementation, based on the FATML submission.\n",
    "    DT.optimize(epsilon=epsilon,dlist = dlist,verbose=False)\n",
    "\n",
    "    DT.computeMarginals()\n",
    "\n",
    "    # randomized mapping for training\n",
    "    # this is the dataframe with the randomization for the train set\n",
    "    dfPtrain = DT.dfP.applymap(lambda x : 0 if x<1e-8 else x)\n",
    "    dfPtrain = dfPtrain.divide(dfPtrain.sum(axis=1),axis=0)\n",
    "\n",
    "    # randomized mapping for testing (Beware of ugly code)\n",
    "    d1 = DT.dfFull.reset_index().groupby(D_features+X_features).sum()\n",
    "    d2 = d1.transpose().reset_index().groupby(X_features).sum()\n",
    "    dTest = d2.transpose()\n",
    "    dTest = dTest.drop(Y_features,1)\n",
    "    dTest = dTest.applymap(lambda x: x if x>1e-8 else 0)\n",
    "    dTest = dTest/dTest.sum()\n",
    "\n",
    "    # this is the dataframe with the randomization for the test set\n",
    "    dfPtest = dTest.divide(dTest.sum(axis=1),axis=0)\n",
    "\n",
    "    # Randomize train data\n",
    "    print('Randomizing training set...')\n",
    "    df_train_new = randomize(df_train,dfPtrain,features = D_features+X_features+Y_features)\n",
    "\n",
    "    # Randomize test data\n",
    "    print('Randomizing test set...')\n",
    "    df_test_new = randomize(df_test,dfPtest,features = D_features+X_features)\n",
    "\n",
    "    # Save train files\n",
    "    df_train.to_csv(result_folder+'train_'+file_name+'.csv')\n",
    "    df_train_new.to_csv(result_folder+'train_new_'+file_name+'.csv')\n",
    "\n",
    "    # Save test files\n",
    "    df_test.to_csv(result_folder+'test_'+file_name+'.csv')\n",
    "    df_test_new.to_csv(result_folder+'test_new_'+file_name+'.csv')\n",
    "    \n",
    "    # increment split number\n",
    "    split_num+=1"
   ]
  },
  {
   "cell_type": "code",
   "execution_count": 13,
   "metadata": {},
   "outputs": [
    {
     "name": "stdout",
     "output_type": "stream",
     "text": [
      "----------------------------------------------------------------\n",
      "LogReg original data (with disc. variable):\n",
      "Train performance: (original dataset)\n",
      "0.803247850123\n",
      "Test performance (original dataset): \n",
      "0.809304467987\n",
      "Test classification result:\n",
      "Gender   Race    \n",
      " Female   White      0.000000\n",
      "         Minority    0.000000\n",
      " Male     White      0.233386\n",
      "         Minority    0.097087\n",
      "Name: pred, dtype: float64\n",
      "----------------------------------------------------------------\n",
      "LogReg on perturbed data:\n",
      "Train performance (pert. dataset): \n",
      "0.790348587224\n",
      "Perturbed test performance when scored on original test y variable: \n",
      "0.788423153693\n",
      "Test classification result:\n",
      "Gender   Race    \n",
      " Female   White      0.148618\n",
      "         Minority    0.077273\n",
      " Male     White      0.210361\n",
      "         Minority    0.089320\n",
      "Name: pred, dtype: float64\n",
      "----------------------------------------------------------------\n",
      "LogReg original data (DROPPING disc. variable):\n",
      "Dropping D train performance: \n",
      "0.785741707617\n",
      "Gender   Race    \n",
      " Female   White      0.091659\n",
      "         Minority    0.059799\n",
      " Male     White      0.145323\n",
      "         Minority    0.104236\n",
      "Name: pred, dtype: float64\n",
      "Dropping D test performance: \n",
      "0.790265622601\n",
      "Test classification result:\n",
      "Gender   Race    \n",
      " Female   White      0.085829\n",
      "         Minority    0.088636\n",
      " Male     White      0.139717\n",
      "         Minority    0.097087\n",
      "Name: pred, dtype: float64\n"
     ]
    },
    {
     "name": "stderr",
     "output_type": "stream",
     "text": [
      "//anaconda/lib/python2.7/site-packages/sklearn/utils/validation.py:526: DataConversionWarning: A column-vector y was passed when a 1d array was expected. Please change the shape of y to (n_samples, ), for example using ravel().\n",
      "  y = column_or_1d(y, warn=True)\n"
     ]
    }
   ],
   "source": [
    "from sklearn.ensemble import RandomForestClassifier\n",
    "from sklearn.linear_model import LogisticRegression\n",
    "\n",
    "# original performance on train data\n",
    "print '----------------------------------------------------------------'\n",
    "print 'LogReg original data (with disc. variable):'\n",
    "rf = LogisticRegression()\n",
    "dft = pd.get_dummies(df_train[D_features+X_features])\n",
    "rf.fit(dft,df_train[Y_features])\n",
    "print 'Train performance: (original dataset)'\n",
    "print rf.score(dft,df_train[Y_features])\n",
    "\n",
    "# df_train_pred = df_train\n",
    "# df_train_pred['pred'] = rf.predict(dft)\n",
    "\n",
    "# # prediction per class\n",
    "# print df_train_pred.groupby(D_features)['pred'].mean()\n",
    "\n",
    "dft = pd.get_dummies(df_test[D_features+X_features])\n",
    "print 'Test performance (original dataset): '\n",
    "print rf.score(dft,df_test[Y_features])\n",
    "\n",
    "print 'Test classification result:'\n",
    "# save performance\n",
    "df_test_pred = df_test\n",
    "df_test_pred['pred'] = rf.predict(dft)\n",
    "\n",
    "# prediction per class\n",
    "print df_test_pred.groupby(D_features)['pred'].mean()\n",
    "\n",
    "\n",
    "\n",
    "print '----------------------------------------------------------------'\n",
    "print 'LogReg on perturbed data:'\n",
    "\n",
    "# performance on perturbed train data\n",
    "rf = LogisticRegression()\n",
    "dft = pd.get_dummies(df_train_new[D_features+X_features])\n",
    "rf.fit(dft,df_train_new[Y_features])\n",
    "print 'Train performance (pert. dataset): '\n",
    "print rf.score(dft,df_train_new[Y_features])\n",
    "\n",
    "#dft = pd.get_dummies(df_test_new[D_features+X_features])\n",
    "#print 'Test performance (pert. dataset): '\n",
    "#print rf.score(dft,df_test_new[Y_features])\n",
    "#print '---------------'\n",
    "\n",
    "# performance on perturbed train data compared to original train data\n",
    "#rf = RandomForestClassifier()\n",
    "#dft = pd.get_dummies(df_train_new[D_features+X_features])\n",
    "#rf.fit(dft,df_train_new[Y_features])\n",
    "dft = pd.get_dummies(df_test_new[D_features+X_features])\n",
    "print 'Perturbed test performance when scored on original test y variable: '\n",
    "print rf.score(dft,df_test[Y_features])\n",
    "\n",
    "dft = pd.get_dummies(df_test_new[D_features+X_features])\n",
    "# save performance\n",
    "df_test_pred = df_test_new\n",
    "df_test_pred['pred'] = rf.predict(dft)\n",
    "\n",
    "# prediction per class\n",
    "print 'Test classification result:'\n",
    "print df_test_pred.groupby(D_features)['pred'].mean()\n",
    "\n",
    "\n",
    "# compared to dropping feature\n",
    "print '----------------------------------------------------------------'\n",
    "print 'LogReg original data (DROPPING disc. variable):'\n",
    "rf = LogisticRegression()\n",
    "dft = pd.get_dummies(df_train[X_features])\n",
    "rf.fit(dft,df_train[Y_features])\n",
    "print 'Dropping D train performance: '\n",
    "print rf.score(dft,df_train[Y_features])\n",
    "\n",
    "df_train_pred = df_train\n",
    "df_train_pred['pred'] = rf.predict(dft)\n",
    "\n",
    "# prediction per class\n",
    "print df_train_pred.groupby(D_features)['pred'].mean()\n",
    "\n",
    "dft = pd.get_dummies(df_test[X_features])\n",
    "print 'Dropping D test performance: '\n",
    "print rf.score(dft,df_test[Y_features])\n",
    "print 'Test classification result:'\n",
    "# save performance\n",
    "df_test_pred = df_test\n",
    "df_test_pred['pred'] = rf.predict(dft)\n",
    "\n",
    "# prediction per class\n",
    "print df_test_pred.groupby(D_features)['pred'].mean()"
   ]
  },
  {
   "cell_type": "code",
   "execution_count": 14,
   "metadata": {},
   "outputs": [
    {
     "name": "stdout",
     "output_type": "stream",
     "text": [
      "----------------------------------------------------------------\n",
      "RandForrest original data (with disc. variable):\n",
      "Train performance: (original dataset)\n",
      "0.803401412776\n",
      "Test performance (original dataset): \n",
      "0.810072163366\n",
      "Test classification result:\n",
      "Gender   Race    \n",
      " Female   White      0.000000\n",
      "         Minority    0.000000\n",
      " Male     White      0.249346\n",
      "         Minority    0.116505\n",
      "Name: pred, dtype: float64\n",
      "----------------------------------------------------------------\n",
      "RandForrest on perturbed data:\n",
      "Train performance (pert. dataset): \n",
      "0.791500307125\n",
      "Perturbed test performance when scored on original test y variable: \n",
      "0.77352986335\n",
      "Test classification result:\n",
      "Gender   Race    \n",
      " Female   White      0.148618\n",
      "         Minority    0.150000\n",
      " Male     White      0.127943\n",
      "         Minority    0.190291\n",
      "Name: pred, dtype: float64\n",
      "----------------------------------------------------------------\n",
      "RandForrest original data (DROPPING disc. variable):\n",
      "Dropping D train performance: \n",
      "0.78804514742\n",
      "Dropping D test performance: \n",
      "0.787041302011\n",
      "Test classification result:\n",
      "Gender   Race    \n",
      " Female   White      0.146889\n",
      "         Minority    0.129545\n",
      " Male     White      0.216379\n",
      "         Minority    0.198058\n",
      "Name: pred, dtype: float64\n"
     ]
    }
   ],
   "source": [
    "from sklearn.ensemble import RandomForestClassifier\n",
    "from sklearn.linear_model import LogisticRegression\n",
    "import warnings\n",
    "warnings.filterwarnings('ignore')\n",
    "\n",
    "# original performance on train data\n",
    "print '----------------------------------------------------------------'\n",
    "print 'RandForrest original data (with disc. variable):'\n",
    "rf = RandomForestClassifier()\n",
    "dft = pd.get_dummies(df_train[D_features+X_features])\n",
    "rf.fit(dft,df_train[Y_features])\n",
    "print 'Train performance: (original dataset)'\n",
    "print rf.score(dft,df_train[Y_features])\n",
    "\n",
    "# df_train_pred = df_train\n",
    "# df_train_pred['pred'] = rf.predict(dft)\n",
    "\n",
    "# # prediction per class\n",
    "# print df_train_pred.groupby(D_features)['pred'].mean()\n",
    "\n",
    "dft = pd.get_dummies(df_test[D_features+X_features])\n",
    "print 'Test performance (original dataset): '\n",
    "print rf.score(dft,df_test[Y_features])\n",
    "\n",
    "print 'Test classification result:'\n",
    "# save performance\n",
    "df_test_pred = df_test\n",
    "df_test_pred['pred'] = rf.predict(dft)\n",
    "\n",
    "# prediction per class\n",
    "print df_test_pred.groupby(D_features)['pred'].mean()\n",
    "\n",
    "\n",
    "\n",
    "print '----------------------------------------------------------------'\n",
    "print 'RandForrest on perturbed data:'\n",
    "\n",
    "# performance on perturbed train data\n",
    "rf = RandomForestClassifier()\n",
    "dft = pd.get_dummies(df_train_new[D_features+X_features])\n",
    "rf.fit(dft,df_train_new[Y_features])\n",
    "print 'Train performance (pert. dataset): '\n",
    "print rf.score(dft,df_train_new[Y_features])\n",
    "\n",
    "#dft = pd.get_dummies(df_test_new[D_features+X_features])\n",
    "#print 'Test performance (pert. dataset): '\n",
    "#print rf.score(dft,df_test_new[Y_features])\n",
    "#print '---------------'\n",
    "\n",
    "# performance on perturbed train data compared to original train data\n",
    "#rf = RandomForestClassifier()\n",
    "#dft = pd.get_dummies(df_train_new[D_features+X_features])\n",
    "#rf.fit(dft,df_train_new[Y_features])\n",
    "dft = pd.get_dummies(df_test_new[D_features+X_features])\n",
    "print 'Perturbed test performance when scored on original test y variable: '\n",
    "print rf.score(dft,df_test[Y_features])\n",
    "\n",
    "dft = pd.get_dummies(df_test_new[D_features+X_features])\n",
    "# save performance\n",
    "df_test_pred = df_test_new\n",
    "df_test_pred['pred'] = rf.predict(dft)\n",
    "\n",
    "# prediction per class\n",
    "print 'Test classification result:'\n",
    "print df_test_pred.groupby(D_features)['pred'].mean()\n",
    "\n",
    "\n",
    "# compared to dropping feature\n",
    "print '----------------------------------------------------------------'\n",
    "print 'RandForrest original data (DROPPING disc. variable):'\n",
    "rf = RandomForestClassifier()\n",
    "dft = pd.get_dummies(df_train[X_features])\n",
    "rf.fit(dft,df_train[Y_features])\n",
    "print 'Dropping D train performance: '\n",
    "print rf.score(dft,df_train[Y_features])\n",
    "\n",
    "# df_train_pred = df_train\n",
    "# df_train_pred['pred'] = rf.predict(dft)\n",
    "\n",
    "# # prediction per class\n",
    "# print df_train_pred.groupby(D_features)['pred'].mean()\n",
    "\n",
    "dft = pd.get_dummies(df_test[X_features])\n",
    "print 'Dropping D test performance: '\n",
    "print rf.score(dft,df_test[Y_features])\n",
    "print 'Test classification result:'\n",
    "# save performance\n",
    "df_test_pred = df_test\n",
    "df_test_pred['pred'] = rf.predict(dft)\n",
    "\n",
    "# prediction per class\n",
    "print df_test_pred.groupby(D_features)['pred'].mean()"
   ]
  },
  {
   "cell_type": "code",
   "execution_count": 15,
   "metadata": {},
   "outputs": [
    {
     "data": {
      "text/html": [
       "<div>\n",
       "<table border=\"1\" class=\"dataframe\">\n",
       "  <thead>\n",
       "    <tr style=\"text-align: right;\">\n",
       "      <th></th>\n",
       "      <th>Age (decade)</th>\n",
       "      <th>Education Years</th>\n",
       "      <th>Income</th>\n",
       "      <th>Gender</th>\n",
       "      <th>Race</th>\n",
       "      <th>Income Binary</th>\n",
       "      <th>pred</th>\n",
       "    </tr>\n",
       "  </thead>\n",
       "  <tbody>\n",
       "    <tr>\n",
       "      <th>22407</th>\n",
       "      <td>40</td>\n",
       "      <td>9</td>\n",
       "      <td>&gt;50K</td>\n",
       "      <td>Male</td>\n",
       "      <td>White</td>\n",
       "      <td>1</td>\n",
       "      <td>0</td>\n",
       "    </tr>\n",
       "    <tr>\n",
       "      <th>3685</th>\n",
       "      <td>50</td>\n",
       "      <td>9</td>\n",
       "      <td>&lt;=50K</td>\n",
       "      <td>Male</td>\n",
       "      <td>White</td>\n",
       "      <td>0</td>\n",
       "      <td>0</td>\n",
       "    </tr>\n",
       "    <tr>\n",
       "      <th>23057</th>\n",
       "      <td>40</td>\n",
       "      <td>9</td>\n",
       "      <td>&lt;=50K</td>\n",
       "      <td>Female</td>\n",
       "      <td>White</td>\n",
       "      <td>0</td>\n",
       "      <td>0</td>\n",
       "    </tr>\n",
       "    <tr>\n",
       "      <th>30134</th>\n",
       "      <td>40</td>\n",
       "      <td>9</td>\n",
       "      <td>&lt;=50K</td>\n",
       "      <td>Male</td>\n",
       "      <td>White</td>\n",
       "      <td>0</td>\n",
       "      <td>0</td>\n",
       "    </tr>\n",
       "    <tr>\n",
       "      <th>15912</th>\n",
       "      <td>20</td>\n",
       "      <td>9</td>\n",
       "      <td>&lt;=50K</td>\n",
       "      <td>Male</td>\n",
       "      <td>White</td>\n",
       "      <td>0</td>\n",
       "      <td>0</td>\n",
       "    </tr>\n",
       "  </tbody>\n",
       "</table>\n",
       "</div>"
      ],
      "text/plain": [
       "      Age (decade) Education Years  Income   Gender    Race  Income Binary  \\\n",
       "22407           40               9    >50K     Male   White              1   \n",
       "3685            50               9   <=50K     Male   White              0   \n",
       "23057           40               9   <=50K   Female   White              0   \n",
       "30134           40               9   <=50K     Male   White              0   \n",
       "15912           20               9   <=50K     Male   White              0   \n",
       "\n",
       "       pred  \n",
       "22407     0  \n",
       "3685      0  \n",
       "23057     0  \n",
       "30134     0  \n",
       "15912     0  "
      ]
     },
     "execution_count": 15,
     "metadata": {},
     "output_type": "execute_result"
    }
   ],
   "source": [
    "df_test.head()"
   ]
  },
  {
   "cell_type": "code",
   "execution_count": 16,
   "metadata": {},
   "outputs": [
    {
     "data": {
      "text/html": [
       "<div>\n",
       "<table border=\"1\" class=\"dataframe\">\n",
       "  <thead>\n",
       "    <tr style=\"text-align: right;\">\n",
       "      <th></th>\n",
       "      <th>Age (decade)</th>\n",
       "      <th>Education Years</th>\n",
       "      <th>Income</th>\n",
       "      <th>Gender</th>\n",
       "      <th>Race</th>\n",
       "      <th>Income Binary</th>\n",
       "      <th>pred</th>\n",
       "    </tr>\n",
       "  </thead>\n",
       "  <tbody>\n",
       "    <tr>\n",
       "      <th>22407</th>\n",
       "      <td>40</td>\n",
       "      <td>9</td>\n",
       "      <td>&gt;50K</td>\n",
       "      <td>Male</td>\n",
       "      <td>White</td>\n",
       "      <td>1</td>\n",
       "      <td>0</td>\n",
       "    </tr>\n",
       "    <tr>\n",
       "      <th>3685</th>\n",
       "      <td>50</td>\n",
       "      <td>9</td>\n",
       "      <td>&lt;=50K</td>\n",
       "      <td>Male</td>\n",
       "      <td>White</td>\n",
       "      <td>0</td>\n",
       "      <td>0</td>\n",
       "    </tr>\n",
       "    <tr>\n",
       "      <th>23057</th>\n",
       "      <td>40</td>\n",
       "      <td>9</td>\n",
       "      <td>&lt;=50K</td>\n",
       "      <td>Female</td>\n",
       "      <td>White</td>\n",
       "      <td>0</td>\n",
       "      <td>0</td>\n",
       "    </tr>\n",
       "    <tr>\n",
       "      <th>30134</th>\n",
       "      <td>40</td>\n",
       "      <td>9</td>\n",
       "      <td>&lt;=50K</td>\n",
       "      <td>Male</td>\n",
       "      <td>White</td>\n",
       "      <td>0</td>\n",
       "      <td>0</td>\n",
       "    </tr>\n",
       "    <tr>\n",
       "      <th>15912</th>\n",
       "      <td>20</td>\n",
       "      <td>9</td>\n",
       "      <td>&lt;=50K</td>\n",
       "      <td>Male</td>\n",
       "      <td>White</td>\n",
       "      <td>0</td>\n",
       "      <td>0</td>\n",
       "    </tr>\n",
       "  </tbody>\n",
       "</table>\n",
       "</div>"
      ],
      "text/plain": [
       "      Age (decade) Education Years  Income   Gender    Race  Income Binary  \\\n",
       "22407           40               9    >50K     Male   White              1   \n",
       "3685            50               9   <=50K     Male   White              0   \n",
       "23057           40               9   <=50K   Female   White              0   \n",
       "30134           40               9   <=50K     Male   White              0   \n",
       "15912           20               9   <=50K     Male   White              0   \n",
       "\n",
       "       pred  \n",
       "22407     0  \n",
       "3685      0  \n",
       "23057     0  \n",
       "30134     0  \n",
       "15912     0  "
      ]
     },
     "execution_count": 16,
     "metadata": {},
     "output_type": "execute_result"
    }
   ],
   "source": [
    "df_test_new.head()"
   ]
  },
  {
   "cell_type": "code",
   "execution_count": null,
   "metadata": {
    "collapsed": true
   },
   "outputs": [],
   "source": []
  }
 ],
 "metadata": {
  "anaconda-cloud": {},
  "kernelspec": {
   "display_name": "Python [default]",
   "language": "python",
   "name": "python2"
  },
  "language_info": {
   "codemirror_mode": {
    "name": "ipython",
    "version": 2
   },
   "file_extension": ".py",
   "mimetype": "text/x-python",
   "name": "python",
   "nbconvert_exporter": "python",
   "pygments_lexer": "ipython2",
   "version": "2.7.12"
  },
  "latex_envs": {
   "bibliofile": "biblio.bib",
   "cite_by": "apalike",
   "current_citInitial": 1,
   "eqLabelWithNumbers": true,
   "eqNumInitial": 0
  }
 },
 "nbformat": 4,
 "nbformat_minor": 1
}
