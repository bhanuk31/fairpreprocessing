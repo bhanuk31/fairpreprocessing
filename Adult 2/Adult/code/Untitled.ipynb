{
 "cells": [
  {
   "cell_type": "code",
   "execution_count": 15,
   "metadata": {
    "collapsed": true
   },
   "outputs": [],
   "source": [
    "from __future__ import division\n",
    "import numpy as np\n",
    "import pandas as pd\n",
    "import scipy\n",
    "import matplotlib.pyplot as plt\n",
    "import seaborn as sns\n",
    "from tqdm import tqdm"
   ]
  },
  {
   "cell_type": "code",
   "execution_count": 33,
   "metadata": {
    "collapsed": true
   },
   "outputs": [],
   "source": [
    "#### All of the next functions are related to prox of g\n",
    "#### (Projection onto dual flow space) ######\n",
    "def f_forward(C,alpha):\n",
    "    n = C.shape[0]\n",
    "    return C.sum(axis=1).reshape(n,1)+C.sum(axis = 0).reshape(1,n) +(alpha)*C\n",
    "\n",
    "def f_backward(C,alpha):\n",
    "    #print C.shape\n",
    "    n = C.shape[0]\n",
    "    pt = C.sum(axis=1).reshape(n,1)\n",
    "    a = -1.0/((n+alpha)*(alpha))\n",
    "    c = -2*a/(2*n+alpha)\n",
    "    \n",
    "    p = pt*a\n",
    "    q = C.sum(axis=0).reshape(1,n)*a\n",
    "    k = pt.sum()*c\n",
    "    \n",
    "    return (C/(alpha) + p + q + k)\n",
    "\n",
    "def big_inverse(C,n):\n",
    "    # n is the number of dual sample points!!!\n",
    "    \n",
    "    C0 = f_forward(C,1)\n",
    "    # inverse\n",
    "    C0 = f_backward(C0,1+n/2.0)\n",
    "    return f_forward(C-C0,1)/n"
   ]
  },
  {
   "cell_type": "code",
   "execution_count": 128,
   "metadata": {},
   "outputs": [],
   "source": [
    "n=5\n",
    "k = 3.9\n",
    "# precomputation of matrix for diagonal cancelation       \n",
    "V = np.zeros((n,n))\n",
    "t = []\n",
    "for i in range(n):\n",
    "    if i == 0:\n",
    "        V[i,i] = 1\n",
    "    else:\n",
    "        V[i-1,i-1] = 0\n",
    "        V[i,i] = 1\n",
    "    t.append(np.diag(big_inverse(V,k)))\n",
    "\n",
    "M = np.stack(t)\n",
    "c1 = M[0,1]\n",
    "c2 = M[0,0] - c1\n",
    "\n",
    "# routine for normalizing diagonal for projection\n",
    "def normalize_diag(V,k):\n",
    "    d = np.diag(big_inverse(V,k))\n",
    "    l_norm = (d - c1*d.sum()/(c2+n*c1))/c2\n",
    "    return V-np.diag(l_norm)"
   ]
  },
  {
   "cell_type": "code",
   "execution_count": 138,
   "metadata": {},
   "outputs": [],
   "source": [
    "beta = 1+.5*k\n",
    "c1new =  ((-(1-beta)**2)/beta)*(2/((n+beta)*(2*n+beta)))/k\n",
    "c2new =  (-(1-beta)/beta)*(1-2*(1-beta)/(n+beta))/k"
   ]
  },
  {
   "cell_type": "code",
   "execution_count": 142,
   "metadata": {},
   "outputs": [
    {
     "data": {
      "text/plain": [
       "-3.4694469519536142e-18"
      ]
     },
     "execution_count": 142,
     "metadata": {},
     "output_type": "execute_result"
    }
   ],
   "source": [
    "c1-c1new"
   ]
  },
  {
   "cell_type": "code",
   "execution_count": 143,
   "metadata": {},
   "outputs": [
    {
     "data": {
      "text/plain": [
       "0.0"
      ]
     },
     "execution_count": 143,
     "metadata": {},
     "output_type": "execute_result"
    }
   ],
   "source": [
    "c2-c2new"
   ]
  },
  {
   "cell_type": "code",
   "execution_count": 111,
   "metadata": {},
   "outputs": [
    {
     "data": {
      "text/plain": [
       "-0.34416850386784786"
      ]
     },
     "execution_count": 111,
     "metadata": {},
     "output_type": "execute_result"
    }
   ],
   "source": [
    "d"
   ]
  },
  {
   "cell_type": "code",
   "execution_count": 112,
   "metadata": {},
   "outputs": [
    {
     "data": {
      "text/plain": [
       "array([[ 0.80027753,  0.06745094,  0.06745094,  0.06745094,  0.06745094,\n",
       "         0.06745094,  0.06745094,  0.06745094,  0.06745094,  0.06745094,\n",
       "         0.06745094,  0.06745094,  0.06745094,  0.06745094,  0.06745094],\n",
       "       [ 0.06745094, -0.0043587 , -0.0043587 , -0.0043587 , -0.0043587 ,\n",
       "        -0.0043587 , -0.0043587 , -0.0043587 , -0.0043587 , -0.0043587 ,\n",
       "        -0.0043587 , -0.0043587 , -0.0043587 , -0.0043587 , -0.0043587 ],\n",
       "       [ 0.06745094, -0.0043587 , -0.0043587 , -0.0043587 , -0.0043587 ,\n",
       "        -0.0043587 , -0.0043587 , -0.0043587 , -0.0043587 , -0.0043587 ,\n",
       "        -0.0043587 , -0.0043587 , -0.0043587 , -0.0043587 , -0.0043587 ],\n",
       "       [ 0.06745094, -0.0043587 , -0.0043587 , -0.0043587 , -0.0043587 ,\n",
       "        -0.0043587 , -0.0043587 , -0.0043587 , -0.0043587 , -0.0043587 ,\n",
       "        -0.0043587 , -0.0043587 , -0.0043587 , -0.0043587 , -0.0043587 ],\n",
       "       [ 0.06745094, -0.0043587 , -0.0043587 , -0.0043587 , -0.0043587 ,\n",
       "        -0.0043587 , -0.0043587 , -0.0043587 , -0.0043587 , -0.0043587 ,\n",
       "        -0.0043587 , -0.0043587 , -0.0043587 , -0.0043587 , -0.0043587 ],\n",
       "       [ 0.06745094, -0.0043587 , -0.0043587 , -0.0043587 , -0.0043587 ,\n",
       "        -0.0043587 , -0.0043587 , -0.0043587 , -0.0043587 , -0.0043587 ,\n",
       "        -0.0043587 , -0.0043587 , -0.0043587 , -0.0043587 , -0.0043587 ],\n",
       "       [ 0.06745094, -0.0043587 , -0.0043587 , -0.0043587 , -0.0043587 ,\n",
       "        -0.0043587 , -0.0043587 , -0.0043587 , -0.0043587 , -0.0043587 ,\n",
       "        -0.0043587 , -0.0043587 , -0.0043587 , -0.0043587 , -0.0043587 ],\n",
       "       [ 0.06745094, -0.0043587 , -0.0043587 , -0.0043587 , -0.0043587 ,\n",
       "        -0.0043587 , -0.0043587 , -0.0043587 , -0.0043587 , -0.0043587 ,\n",
       "        -0.0043587 , -0.0043587 , -0.0043587 , -0.0043587 , -0.0043587 ],\n",
       "       [ 0.06745094, -0.0043587 , -0.0043587 , -0.0043587 , -0.0043587 ,\n",
       "        -0.0043587 , -0.0043587 , -0.0043587 , -0.0043587 , -0.0043587 ,\n",
       "        -0.0043587 , -0.0043587 , -0.0043587 , -0.0043587 , -0.0043587 ],\n",
       "       [ 0.06745094, -0.0043587 , -0.0043587 , -0.0043587 , -0.0043587 ,\n",
       "        -0.0043587 , -0.0043587 , -0.0043587 , -0.0043587 , -0.0043587 ,\n",
       "        -0.0043587 , -0.0043587 , -0.0043587 , -0.0043587 , -0.0043587 ],\n",
       "       [ 0.06745094, -0.0043587 , -0.0043587 , -0.0043587 , -0.0043587 ,\n",
       "        -0.0043587 , -0.0043587 , -0.0043587 , -0.0043587 , -0.0043587 ,\n",
       "        -0.0043587 , -0.0043587 , -0.0043587 , -0.0043587 , -0.0043587 ],\n",
       "       [ 0.06745094, -0.0043587 , -0.0043587 , -0.0043587 , -0.0043587 ,\n",
       "        -0.0043587 , -0.0043587 , -0.0043587 , -0.0043587 , -0.0043587 ,\n",
       "        -0.0043587 , -0.0043587 , -0.0043587 , -0.0043587 , -0.0043587 ],\n",
       "       [ 0.06745094, -0.0043587 , -0.0043587 , -0.0043587 , -0.0043587 ,\n",
       "        -0.0043587 , -0.0043587 , -0.0043587 , -0.0043587 , -0.0043587 ,\n",
       "        -0.0043587 , -0.0043587 , -0.0043587 , -0.0043587 , -0.0043587 ],\n",
       "       [ 0.06745094, -0.0043587 , -0.0043587 , -0.0043587 , -0.0043587 ,\n",
       "        -0.0043587 , -0.0043587 , -0.0043587 , -0.0043587 , -0.0043587 ,\n",
       "        -0.0043587 , -0.0043587 , -0.0043587 , -0.0043587 , -0.0043587 ],\n",
       "       [ 0.06745094, -0.0043587 , -0.0043587 , -0.0043587 , -0.0043587 ,\n",
       "        -0.0043587 , -0.0043587 , -0.0043587 , -0.0043587 , -0.0043587 ,\n",
       "        -0.0043587 , -0.0043587 , -0.0043587 , -0.0043587 , -0.0043587 ]])"
      ]
     },
     "execution_count": 112,
     "metadata": {},
     "output_type": "execute_result"
    }
   ],
   "source": [
    "M = np.zeros((n,n))\n",
    "M[0,0] = 1.0\n",
    "V = f_forward(M - f_backward(f_forward(M,1),beta),1)\n",
    "V"
   ]
  },
  {
   "cell_type": "code",
   "execution_count": 113,
   "metadata": {},
   "outputs": [
    {
     "data": {
      "text/plain": [
       "0.8002775270504336"
      ]
     },
     "execution_count": 113,
     "metadata": {},
     "output_type": "execute_result"
    }
   ],
   "source": [
    "a = -(1-beta)/beta\n",
    "b = (beta-1)*(2*n+beta-1)\n",
    "c = (n+beta)*(2*n+beta)\n",
    "a*(1+2*b/c)"
   ]
  },
  {
   "cell_type": "code",
   "execution_count": 115,
   "metadata": {},
   "outputs": [
    {
     "data": {
      "text/plain": [
       "0.06745093718215549"
      ]
     },
     "execution_count": 115,
     "metadata": {},
     "output_type": "execute_result"
    }
   ],
   "source": [
    "a = (1-beta)**2\n",
    "b = (beta*(n+beta))\n",
    "c = 2/(2*n+beta)\n",
    "(1-c)*a/b"
   ]
  },
  {
   "cell_type": "code",
   "execution_count": 116,
   "metadata": {},
   "outputs": [
    {
     "data": {
      "text/plain": [
       "-0.0043587035335803225"
      ]
     },
     "execution_count": 116,
     "metadata": {},
     "output_type": "execute_result"
    }
   ],
   "source": [
    "a = (1-beta)**2/beta\n",
    "b = (n+beta)*(2*n+beta)\n",
    "-a*(2/b)"
   ]
  },
  {
   "cell_type": "code",
   "execution_count": 73,
   "metadata": {},
   "outputs": [
    {
     "data": {
      "text/plain": [
       "array([[ 0.43296703, -0.07472527, -0.07472527, -0.07472527],\n",
       "       [-0.07472527,  0.01758242,  0.01758242,  0.01758242],\n",
       "       [-0.07472527,  0.01758242,  0.01758242,  0.01758242],\n",
       "       [-0.07472527,  0.01758242,  0.01758242,  0.01758242]])"
      ]
     },
     "execution_count": 73,
     "metadata": {},
     "output_type": "execute_result"
    }
   ],
   "source": [
    "a = (1-beta)**2"
   ]
  },
  {
   "cell_type": "code",
   "execution_count": 95,
   "metadata": {},
   "outputs": [
    {
     "data": {
      "text/plain": [
       "-0.07472527472527472"
      ]
     },
     "execution_count": 95,
     "metadata": {},
     "output_type": "execute_result"
    }
   ],
   "source": [
    "(1/beta)*(1/(n+beta))*((1-beta))+c"
   ]
  },
  {
   "cell_type": "code",
   "execution_count": 82,
   "metadata": {},
   "outputs": [
    {
     "data": {
      "text/plain": [
       "-0.04395604395604395"
      ]
     },
     "execution_count": 82,
     "metadata": {},
     "output_type": "execute_result"
    }
   ],
   "source": [
    "-(1/beta)*(1/(n+beta))+c"
   ]
  },
  {
   "cell_type": "code",
   "execution_count": 85,
   "metadata": {},
   "outputs": [
    {
     "data": {
      "text/plain": [
       "-0.29010989010989013"
      ]
     },
     "execution_count": 85,
     "metadata": {},
     "output_type": "execute_result"
    }
   ],
   "source": [
    "((n+1)/(n+beta))/beta"
   ]
  },
  {
   "cell_type": "code",
   "execution_count": 88,
   "metadata": {},
   "outputs": [],
   "source": [
    "e1 = np.zeros((n,1))\n",
    "e1[0] =1\n",
    "o1 = np.ones((n,1))\n",
    "o1t = np.ones((1,n))"
   ]
  },
  {
   "cell_type": "markdown",
   "metadata": {},
   "source": [
    "# "
   ]
  },
  {
   "cell_type": "code",
   "execution_count": 97,
   "metadata": {},
   "outputs": [
    {
     "data": {
      "text/plain": [
       "array([[ 0.43296703, -0.07472527, -0.07472527, -0.07472527],\n",
       "       [-0.07472527,  0.01758242,  0.01758242,  0.01758242],\n",
       "       [-0.07472527,  0.01758242,  0.01758242,  0.01758242],\n",
       "       [-0.07472527,  0.01758242,  0.01758242,  0.01758242]])"
      ]
     },
     "execution_count": 97,
     "metadata": {},
     "output_type": "execute_result"
    }
   ],
   "source": [
    "X = (o1.dot(e1.transpose())+e1.dot(o1t))\n",
    "-((1-beta)/(beta))*( M- X/(n+beta)+2/((2*n+beta)*(n+beta)) )"
   ]
  },
  {
   "cell_type": "code",
   "execution_count": 94,
   "metadata": {},
   "outputs": [
    {
     "data": {
      "text/plain": [
       "array([[ 1.09352869,  0.53797314,  0.53797314,  0.53797314],\n",
       "       [ 0.53797314, -0.01758242, -0.01758242, -0.01758242],\n",
       "       [ 0.53797314, -0.01758242, -0.01758242, -0.01758242],\n",
       "       [ 0.53797314, -0.01758242, -0.01758242, -0.01758242]])"
      ]
     },
     "execution_count": 94,
     "metadata": {},
     "output_type": "execute_result"
    }
   ],
   "source": [
    "((n+1)*(o1.dot(e1.transpose())+e1.dot(o1t)))/(beta+n+beta)-c"
   ]
  },
  {
   "cell_type": "code",
   "execution_count": null,
   "metadata": {
    "collapsed": true
   },
   "outputs": [],
   "source": []
  }
 ],
 "metadata": {
  "anaconda-cloud": {},
  "kernelspec": {
   "display_name": "Python [default]",
   "language": "python",
   "name": "python2"
  },
  "language_info": {
   "codemirror_mode": {
    "name": "ipython",
    "version": 2
   },
   "file_extension": ".py",
   "mimetype": "text/x-python",
   "name": "python",
   "nbconvert_exporter": "python",
   "pygments_lexer": "ipython2",
   "version": "2.7.12"
  },
  "latex_envs": {
   "bibliofile": "biblio.bib",
   "cite_by": "apalike",
   "current_citInitial": 1,
   "eqLabelWithNumbers": true,
   "eqNumInitial": 0
  }
 },
 "nbformat": 4,
 "nbformat_minor": 1
}
